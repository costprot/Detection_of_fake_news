{
  "cells": [
    {
      "cell_type": "markdown",
      "metadata": {
        "id": "view-in-github",
        "colab_type": "text"
      },
      "source": [
        "<a href=\"https://colab.research.google.com/github/costprot/Detection_of_fake_news/blob/main/FAKENEWS.ipynb\" target=\"_parent\"><img src=\"https://colab.research.google.com/assets/colab-badge.svg\" alt=\"Open In Colab\"/></a>"
      ]
    },
    {
      "cell_type": "code",
      "execution_count": null,
      "metadata": {
        "id": "c_F_jaj4bYYu"
      },
      "outputs": [],
      "source": [
        "import pandas as pd\n",
        "import numpy as np\n",
        "import re\n",
        "import nltk\n",
        "from nltk.corpus import stopwords\n",
        "from nltk.stem.porter import PorterStemmer\n",
        "from sklearn.feature_extraction.text import TfidfVectorizer\n",
        "from sklearn.model_selection import train_test_split\n",
        "from sklearn.linear_model import LogisticRegression\n",
        "from sklearn.metrics import accuracy_score\n",
        "from nltk.stem.porter import PorterStemmer\n",
        "from sklearn.metrics import confusion_matrix\n",
        "from sklearn.metrics import classification_report\n",
        "from sklearn.svm import LinearSVC\n",
        "from sklearn import metrics\n",
        "from nltk.corpus import stopwords\n",
        "from wordcloud import WordCloud, STOPWORDS\n",
        "from nltk.stem import WordNetLemmatizer\n",
        "import string\n",
        "import time\n",
        "import pickle\n",
        "import random"
      ]
    },
    {
      "cell_type": "markdown",
      "metadata": {
        "id": "kFVcnuRCbYYz"
      },
      "source": [
        "Α) Data"
      ]
    },
    {
      "cell_type": "code",
      "execution_count": null,
      "metadata": {
        "id": "W6Q9IEGGbYY1",
        "outputId": "4a96e439-ee50-4d96-c296-e51d5004f440"
      },
      "outputs": [
        {
          "name": "stderr",
          "output_type": "stream",
          "text": [
            "[nltk_data] Downloading package stopwords to\n",
            "[nltk_data]     C:\\Users\\Admin\\AppData\\Roaming\\nltk_data...\n",
            "[nltk_data]   Package stopwords is already up-to-date!\n"
          ]
        },
        {
          "data": {
            "text/plain": [
              "True"
            ]
          },
          "execution_count": 296,
          "metadata": {},
          "output_type": "execute_result"
        }
      ],
      "source": [
        "nltk.download('stopwords')"
      ]
    },
    {
      "cell_type": "code",
      "execution_count": null,
      "metadata": {
        "id": "hrD_YbPVbYY2",
        "outputId": "3e1686d7-d670-4f44-a4c5-56dbad445841"
      },
      "outputs": [
        {
          "data": {
            "text/html": [
              "<div>\n",
              "<style scoped>\n",
              "    .dataframe tbody tr th:only-of-type {\n",
              "        vertical-align: middle;\n",
              "    }\n",
              "\n",
              "    .dataframe tbody tr th {\n",
              "        vertical-align: top;\n",
              "    }\n",
              "\n",
              "    .dataframe thead th {\n",
              "        text-align: right;\n",
              "    }\n",
              "</style>\n",
              "<table border=\"1\" class=\"dataframe\">\n",
              "  <thead>\n",
              "    <tr style=\"text-align: right;\">\n",
              "      <th></th>\n",
              "      <th>id</th>\n",
              "      <th>title</th>\n",
              "      <th>author</th>\n",
              "      <th>text</th>\n",
              "      <th>label</th>\n",
              "    </tr>\n",
              "  </thead>\n",
              "  <tbody>\n",
              "    <tr>\n",
              "      <th>0</th>\n",
              "      <td>0</td>\n",
              "      <td>House Dem Aide: We Didn’t Even See Comey’s Let...</td>\n",
              "      <td>Darrell Lucus</td>\n",
              "      <td>House Dem Aide: We Didn’t Even See Comey’s Let...</td>\n",
              "      <td>1</td>\n",
              "    </tr>\n",
              "    <tr>\n",
              "      <th>1</th>\n",
              "      <td>1</td>\n",
              "      <td>FLYNN: Hillary Clinton, Big Woman on Campus - ...</td>\n",
              "      <td>Daniel J. Flynn</td>\n",
              "      <td>Ever get the feeling your life circles the rou...</td>\n",
              "      <td>0</td>\n",
              "    </tr>\n",
              "    <tr>\n",
              "      <th>2</th>\n",
              "      <td>2</td>\n",
              "      <td>Why the Truth Might Get You Fired</td>\n",
              "      <td>Consortiumnews.com</td>\n",
              "      <td>Why the Truth Might Get You Fired October 29, ...</td>\n",
              "      <td>1</td>\n",
              "    </tr>\n",
              "    <tr>\n",
              "      <th>3</th>\n",
              "      <td>3</td>\n",
              "      <td>15 Civilians Killed In Single US Airstrike Hav...</td>\n",
              "      <td>Jessica Purkiss</td>\n",
              "      <td>Videos 15 Civilians Killed In Single US Airstr...</td>\n",
              "      <td>1</td>\n",
              "    </tr>\n",
              "    <tr>\n",
              "      <th>4</th>\n",
              "      <td>4</td>\n",
              "      <td>Iranian woman jailed for fictional unpublished...</td>\n",
              "      <td>Howard Portnoy</td>\n",
              "      <td>Print \\nAn Iranian woman has been sentenced to...</td>\n",
              "      <td>1</td>\n",
              "    </tr>\n",
              "  </tbody>\n",
              "</table>\n",
              "</div>"
            ],
            "text/plain": [
              "   id                                              title              author  \\\n",
              "0   0  House Dem Aide: We Didn’t Even See Comey’s Let...       Darrell Lucus   \n",
              "1   1  FLYNN: Hillary Clinton, Big Woman on Campus - ...     Daniel J. Flynn   \n",
              "2   2                  Why the Truth Might Get You Fired  Consortiumnews.com   \n",
              "3   3  15 Civilians Killed In Single US Airstrike Hav...     Jessica Purkiss   \n",
              "4   4  Iranian woman jailed for fictional unpublished...      Howard Portnoy   \n",
              "\n",
              "                                                text  label  \n",
              "0  House Dem Aide: We Didn’t Even See Comey’s Let...      1  \n",
              "1  Ever get the feeling your life circles the rou...      0  \n",
              "2  Why the Truth Might Get You Fired October 29, ...      1  \n",
              "3  Videos 15 Civilians Killed In Single US Airstr...      1  \n",
              "4  Print \\nAn Iranian woman has been sentenced to...      1  "
            ]
          },
          "execution_count": 297,
          "metadata": {},
          "output_type": "execute_result"
        }
      ],
      "source": [
        "news = pd.read_csv(\"train.csv\")\n",
        "news = news.fillna('')\n",
        "news.head()"
      ]
    },
    {
      "cell_type": "code",
      "execution_count": null,
      "metadata": {
        "id": "u7TQWvJ7bYY3",
        "outputId": "89ee389f-a05b-4838-8c3b-995c6c1a5bc6"
      },
      "outputs": [
        {
          "data": {
            "text/plain": [
              "(20800, 5)"
            ]
          },
          "execution_count": 298,
          "metadata": {},
          "output_type": "execute_result"
        }
      ],
      "source": [
        "news.shape"
      ]
    },
    {
      "cell_type": "code",
      "execution_count": null,
      "metadata": {
        "id": "ihtRJpJObYY3",
        "outputId": "3cc1cc81-3fd5-48cd-8c0c-04057241edcf"
      },
      "outputs": [
        {
          "data": {
            "text/html": [
              "<div>\n",
              "<style scoped>\n",
              "    .dataframe tbody tr th:only-of-type {\n",
              "        vertical-align: middle;\n",
              "    }\n",
              "\n",
              "    .dataframe tbody tr th {\n",
              "        vertical-align: top;\n",
              "    }\n",
              "\n",
              "    .dataframe thead th {\n",
              "        text-align: right;\n",
              "    }\n",
              "</style>\n",
              "<table border=\"1\" class=\"dataframe\">\n",
              "  <thead>\n",
              "    <tr style=\"text-align: right;\">\n",
              "      <th></th>\n",
              "      <th>id</th>\n",
              "      <th>title</th>\n",
              "      <th>author</th>\n",
              "      <th>text</th>\n",
              "    </tr>\n",
              "  </thead>\n",
              "  <tbody>\n",
              "    <tr>\n",
              "      <th>0</th>\n",
              "      <td>20800</td>\n",
              "      <td>Specter of Trump Loosens Tongues, if Not Purse...</td>\n",
              "      <td>David Streitfeld</td>\n",
              "      <td>PALO ALTO, Calif.  —   After years of scorning...</td>\n",
              "    </tr>\n",
              "    <tr>\n",
              "      <th>1</th>\n",
              "      <td>20801</td>\n",
              "      <td>Russian warships ready to strike terrorists ne...</td>\n",
              "      <td></td>\n",
              "      <td>Russian warships ready to strike terrorists ne...</td>\n",
              "    </tr>\n",
              "    <tr>\n",
              "      <th>2</th>\n",
              "      <td>20802</td>\n",
              "      <td>#NoDAPL: Native American Leaders Vow to Stay A...</td>\n",
              "      <td>Common Dreams</td>\n",
              "      <td>Videos #NoDAPL: Native American Leaders Vow to...</td>\n",
              "    </tr>\n",
              "    <tr>\n",
              "      <th>3</th>\n",
              "      <td>20803</td>\n",
              "      <td>Tim Tebow Will Attempt Another Comeback, This ...</td>\n",
              "      <td>Daniel Victor</td>\n",
              "      <td>If at first you don’t succeed, try a different...</td>\n",
              "    </tr>\n",
              "    <tr>\n",
              "      <th>4</th>\n",
              "      <td>20804</td>\n",
              "      <td>Keiser Report: Meme Wars (E995)</td>\n",
              "      <td>Truth Broadcast Network</td>\n",
              "      <td>42 mins ago 1 Views 0 Comments 0 Likes 'For th...</td>\n",
              "    </tr>\n",
              "  </tbody>\n",
              "</table>\n",
              "</div>"
            ],
            "text/plain": [
              "      id                                              title  \\\n",
              "0  20800  Specter of Trump Loosens Tongues, if Not Purse...   \n",
              "1  20801  Russian warships ready to strike terrorists ne...   \n",
              "2  20802  #NoDAPL: Native American Leaders Vow to Stay A...   \n",
              "3  20803  Tim Tebow Will Attempt Another Comeback, This ...   \n",
              "4  20804                    Keiser Report: Meme Wars (E995)   \n",
              "\n",
              "                    author                                               text  \n",
              "0         David Streitfeld  PALO ALTO, Calif.  —   After years of scorning...  \n",
              "1                           Russian warships ready to strike terrorists ne...  \n",
              "2            Common Dreams  Videos #NoDAPL: Native American Leaders Vow to...  \n",
              "3            Daniel Victor  If at first you don’t succeed, try a different...  \n",
              "4  Truth Broadcast Network  42 mins ago 1 Views 0 Comments 0 Likes 'For th...  "
            ]
          },
          "execution_count": 299,
          "metadata": {},
          "output_type": "execute_result"
        }
      ],
      "source": [
        "testnews = pd.read_csv(\"test.csv\")\n",
        "testnews = testnews.fillna('')\n",
        "testnews.head()"
      ]
    },
    {
      "cell_type": "code",
      "execution_count": null,
      "metadata": {
        "id": "TyxtQNMpbYY4",
        "outputId": "9bd304b0-62df-4d1f-f5f0-019b3a93304e"
      },
      "outputs": [
        {
          "data": {
            "text/plain": [
              "(5200, 4)"
            ]
          },
          "execution_count": 300,
          "metadata": {},
          "output_type": "execute_result"
        }
      ],
      "source": [
        "testnews.shape"
      ]
    },
    {
      "cell_type": "code",
      "execution_count": null,
      "metadata": {
        "id": "Ze6IrepHbYY5",
        "outputId": "69662807-cac9-463a-f9e2-af0ff035443e"
      },
      "outputs": [
        {
          "data": {
            "text/html": [
              "<div>\n",
              "<style scoped>\n",
              "    .dataframe tbody tr th:only-of-type {\n",
              "        vertical-align: middle;\n",
              "    }\n",
              "\n",
              "    .dataframe tbody tr th {\n",
              "        vertical-align: top;\n",
              "    }\n",
              "\n",
              "    .dataframe thead th {\n",
              "        text-align: right;\n",
              "    }\n",
              "</style>\n",
              "<table border=\"1\" class=\"dataframe\">\n",
              "  <thead>\n",
              "    <tr style=\"text-align: right;\">\n",
              "      <th></th>\n",
              "      <th>id</th>\n",
              "      <th>label</th>\n",
              "    </tr>\n",
              "  </thead>\n",
              "  <tbody>\n",
              "    <tr>\n",
              "      <th>0</th>\n",
              "      <td>20800</td>\n",
              "      <td>0</td>\n",
              "    </tr>\n",
              "    <tr>\n",
              "      <th>1</th>\n",
              "      <td>20801</td>\n",
              "      <td>1</td>\n",
              "    </tr>\n",
              "    <tr>\n",
              "      <th>2</th>\n",
              "      <td>20802</td>\n",
              "      <td>0</td>\n",
              "    </tr>\n",
              "    <tr>\n",
              "      <th>3</th>\n",
              "      <td>20803</td>\n",
              "      <td>1</td>\n",
              "    </tr>\n",
              "    <tr>\n",
              "      <th>4</th>\n",
              "      <td>20804</td>\n",
              "      <td>1</td>\n",
              "    </tr>\n",
              "  </tbody>\n",
              "</table>\n",
              "</div>"
            ],
            "text/plain": [
              "      id  label\n",
              "0  20800      0\n",
              "1  20801      1\n",
              "2  20802      0\n",
              "3  20803      1\n",
              "4  20804      1"
            ]
          },
          "execution_count": 301,
          "metadata": {},
          "output_type": "execute_result"
        }
      ],
      "source": [
        "submitnews = pd.read_csv(\"submit.csv\")\n",
        "submitnews = submitnews.fillna('')\n",
        "submitnews.head()"
      ]
    },
    {
      "cell_type": "code",
      "execution_count": null,
      "metadata": {
        "id": "GIZrNB9PbYY6",
        "outputId": "f8eee863-e484-4fdd-abed-bf555e76be68"
      },
      "outputs": [
        {
          "data": {
            "text/plain": [
              "(5200, 2)"
            ]
          },
          "execution_count": 302,
          "metadata": {},
          "output_type": "execute_result"
        }
      ],
      "source": [
        "submitnews.shape"
      ]
    },
    {
      "cell_type": "code",
      "execution_count": null,
      "metadata": {
        "id": "ubaKe7rfbYY6"
      },
      "outputs": [],
      "source": [
        "news['content'] = news['text']\n",
        "testnews['content'] = testnews['text']"
      ]
    },
    {
      "cell_type": "code",
      "execution_count": null,
      "metadata": {
        "id": "5GAtJJy7bYY7"
      },
      "outputs": [],
      "source": [
        "news.to_csv(r'news.csv', index = False)\n",
        "testnews.to_csv(r'testnews.csv', index = False)"
      ]
    },
    {
      "cell_type": "markdown",
      "metadata": {
        "id": "iVvt7ddXbYY8"
      },
      "source": [
        "#Stemming the Data"
      ]
    },
    {
      "cell_type": "code",
      "execution_count": null,
      "metadata": {
        "id": "5GtKwePDbYY8"
      },
      "outputs": [],
      "source": [
        "port_stem = PorterStemmer()"
      ]
    },
    {
      "cell_type": "code",
      "execution_count": null,
      "metadata": {
        "id": "qJYRsmX7bYY8"
      },
      "outputs": [],
      "source": [
        "def stemming(content):    \n",
        "    review = re.sub('[^a-zA-Z]',' ',content)\n",
        "    regex = \"@\\S+|https?:\\S+|http?:\\S|[^A-Za-z0-9]+\"\n",
        "    review = re.sub(regex, ' ', str(review).lower()).strip()\n",
        "    review = re.sub(r'(https|http)?:\\/\\/(\\w|\\.|\\/|\\?|\\=|\\&|\\%)*\\b', '',review, flags=re.MULTILINE)\n",
        "    review = review.lower()\n",
        "    review = review.split()\n",
        "    review = [port_stem.stem(word) for word in review if not word in stopwords.words('english')]\n",
        "    review = ' '.join(review)\n",
        "    return review"
      ]
    },
    {
      "cell_type": "code",
      "execution_count": null,
      "metadata": {
        "id": "No5ZCtvZbYY9"
      },
      "outputs": [],
      "source": [
        "import matplotlib.pyplot as plt\n",
        "import itertools\n",
        "\n",
        "def plot_confusion_matrix(cm, classes,\n",
        "                          normalize=False,\n",
        "                          title='Confusion matrix',\n",
        "                          cmap=plt.cm.Purples):\n",
        "    plt.imshow(cm, interpolation='nearest', cmap=cmap)\n",
        "    plt.title(title)\n",
        "    plt.colorbar()\n",
        "    tick_marks = np.arange(len(classes))\n",
        "    plt.xticks(tick_marks, classes, rotation=45)\n",
        "    plt.yticks(tick_marks, classes)\n",
        "\n",
        "    if normalize:\n",
        "        cm = cm.astype('float') / cm.sum(axis=1)[:, np.newaxis]\n",
        "        print(\"Normalized confusion matrix\")\n",
        "    else:\n",
        "        print('Confusion matrix, without normalization')\n",
        "\n",
        "    thresh = cm.max() / 2.\n",
        "    for i, j in itertools.product(range(cm.shape[0]), range(cm.shape[1])):\n",
        "        plt.text(j, i, cm[i, j],\n",
        "                 horizontalalignment=\"center\",\n",
        "                 color=\"white\" if cm[i, j] > thresh else \"black\")\n",
        "\n",
        "    plt.tight_layout()\n",
        "    plt.ylabel('True label')\n",
        "    plt.xlabel('Predicted label')"
      ]
    },
    {
      "cell_type": "code",
      "execution_count": null,
      "metadata": {
        "id": "whjpzkAsbYY-"
      },
      "outputs": [],
      "source": [
        "news['content'] = news['content'].apply(stemming)"
      ]
    },
    {
      "cell_type": "code",
      "execution_count": null,
      "metadata": {
        "id": "bw7PLjecbYY_"
      },
      "outputs": [],
      "source": [
        "testnews['content'] = testnews['content'].apply(stemming)"
      ]
    },
    {
      "cell_type": "code",
      "execution_count": null,
      "metadata": {
        "id": "-qzXjAUnbYZA"
      },
      "outputs": [],
      "source": [
        "X_TRAIN = news['content'].values\n",
        "Y_TRAIN = news['label'].values"
      ]
    },
    {
      "cell_type": "code",
      "execution_count": null,
      "metadata": {
        "id": "CQg3tDuhbYZA"
      },
      "outputs": [],
      "source": [
        "X_TEST = testnews['content'].values\n",
        "Y_TEST = submitnews['label'].values"
      ]
    },
    {
      "cell_type": "markdown",
      "metadata": {
        "id": "T4xfjGPEbYZB"
      },
      "source": [
        "Vectorize"
      ]
    },
    {
      "cell_type": "code",
      "execution_count": null,
      "metadata": {
        "id": "0RWp0ru6bYZB",
        "outputId": "b89a7643-56fa-4c74-c017-bb642bf32fd5"
      },
      "outputs": [
        {
          "data": {
            "text/plain": [
              "pandas.core.series.Series"
            ]
          },
          "execution_count": 531,
          "metadata": {},
          "output_type": "execute_result"
        }
      ],
      "source": [
        "type(news['content'])"
      ]
    },
    {
      "cell_type": "code",
      "execution_count": null,
      "metadata": {
        "id": "fbUJ2RFMbYZC"
      },
      "outputs": [],
      "source": [
        "vectorizer = TfidfVectorizer()\n",
        "vectorizer.fit(X_TRAIN)\n",
        "TF_X_TRAIN = vectorizer.transform(X_TRAIN)\n",
        "TF_X_TEST = vectorizer.transform(X_TEST)"
      ]
    },
    {
      "cell_type": "code",
      "execution_count": null,
      "metadata": {
        "id": "noRaANrSbYZC"
      },
      "outputs": [],
      "source": [
        "allWords = vectorizer.get_feature_names()"
      ]
    },
    {
      "cell_type": "markdown",
      "metadata": {
        "id": "VI9PTfdCbYZC"
      },
      "source": [
        "Β) Model trainning and C) Evaluation of regressor"
      ]
    },
    {
      "cell_type": "markdown",
      "metadata": {
        "id": "dAs9rQypbYZD"
      },
      "source": [
        "Logistic Regression"
      ]
    },
    {
      "cell_type": "code",
      "execution_count": null,
      "metadata": {
        "id": "V1WrLDCkbYZD",
        "outputId": "09dff13d-4615-4571-a0cc-70cb4a26842c"
      },
      "outputs": [
        {
          "name": "stdout",
          "output_type": "stream",
          "text": [
            "--- 2.2171072959899902 seconds ---\n",
            "Accuracy score of the training data (Logistic Regression):  0.9709615384615384\n",
            "Accuracy score of the testing data :  0.6371153846153846\n",
            "Confusion matrix, without normalization\n"
          ]
        },
        {
          "data": {
            "image/png": "[encoded data removed]",
            "text/plain": [
              "<Figure size 432x288 with 2 Axes>"
            ]
          },
          "metadata": {
            "needs_background": "light"
          },
          "output_type": "display_data"
        }
      ],
      "source": [
        "start_time = time.time()\n",
        "model_lr = LogisticRegression(max_iter=1000,solver='saga')\n",
        "model_lr.fit(TF_X_TRAIN, Y_TRAIN)\n",
        "print(\"--- %s seconds ---\" % (time.time() - start_time))\n",
        "\n",
        "\n",
        "filename = 'model_lr.sav'\n",
        "pickle.dump(model_lr, open(filename, 'wb'))\n",
        "\n",
        "\n",
        "X_train_prediction = model_lr.predict(TF_X_TRAIN)\n",
        "training_data_accuracy = accuracy_score(X_train_prediction, Y_TRAIN)\n",
        "print('Accuracy score of the training data (Logistic Regression): ', training_data_accuracy)\n",
        "X_test_prediction = model_lr.predict(TF_X_TEST)\n",
        "test_data_accuracy = accuracy_score(X_test_prediction, Y_TEST)\n",
        "print('Accuracy score of the testing data : ', test_data_accuracy)\n",
        "cm_lr = metrics.confusion_matrix(Y_TEST, X_test_prediction, labels=[0,1])\n",
        "plot_confusion_matrix(cm_lr, classes=['True News','Fake News'], title ='Confusion matrix for a Logistic Regression (Test section)')"
      ]
    },
    {
      "cell_type": "markdown",
      "metadata": {
        "id": "lRu-qBNabYZD"
      },
      "source": [
        "SVC"
      ]
    },
    {
      "cell_type": "code",
      "execution_count": null,
      "metadata": {
        "id": "QRAVrr7MbYZE",
        "outputId": "3b7856cc-7357-46e2-e561-8dd75b4e0322"
      },
      "outputs": [
        {
          "name": "stdout",
          "output_type": "stream",
          "text": [
            "--- 0.9076368808746338 seconds ---\n",
            "Accuracy score of the training data (Logistic Regression):  0.998125\n",
            "Accuracy score of the testing data :  0.6365384615384615\n",
            "Confusion matrix, without normalization\n"
          ]
        },
        {
          "data": {
            "image/png": "[encoded data removed]",
            "text/plain": [
              "<Figure size 432x288 with 2 Axes>"
            ]
          },
          "metadata": {
            "needs_background": "light"
          },
          "output_type": "display_data"
        }
      ],
      "source": [
        "start_time = time.time()\n",
        "model_svc = MLPClassifier(solver='lbfgs', alpha=1e-5,hidden_layer_sizes=(5, 2), random_state=1)#LinearSVC()\n",
        "model_svc.fit(TF_X_TRAIN, Y_TRAIN)\n",
        "print(\"--- %s seconds ---\" % (time.time() - start_time))\n",
        "\n",
        "filename = 'model_svc.sav'\n",
        "pickle.dump(model_svc, open(filename, 'wb'))\n",
        "\n",
        "X_train_prediction = model_svc.predict(TF_X_TRAIN)\n",
        "training_data_accuracy = accuracy_score(X_train_prediction, Y_TRAIN)\n",
        "print('Accuracy score of the training data (Logistic Regression): ', training_data_accuracy)\n",
        "X_test_prediction = model_svc.predict(TF_X_TEST)\n",
        "test_data_accuracy = accuracy_score(X_test_prediction, Y_TEST)\n",
        "print('Accuracy score of the testing data : ', test_data_accuracy)\n",
        "cm_svc = metrics.confusion_matrix(Y_TEST, X_test_prediction, labels=[0,1])\n",
        "plot_confusion_matrix(cm_svc, classes=['True News','Fake News'], title ='Confusion matrix for a SVC (Test section)')"
      ]
    },
    {
      "cell_type": "markdown",
      "metadata": {
        "id": "O1A7QZDibYZE"
      },
      "source": [
        ""
      ]
    },
    {
      "cell_type": "markdown",
      "metadata": {
        "id": "WrqPS3ySbYZE"
      },
      "source": [
        "D) Application Development"
      ]
    },
    {
      "cell_type": "code",
      "execution_count": null,
      "metadata": {
        "id": "J5In4atMbYZE"
      },
      "outputs": [],
      "source": [
        "def createVector(txt):\n",
        "    s = stemming(txt)\n",
        "    myList = [s]\n",
        "    X_TEST = vectorizer.transform(myList)\n",
        "    return X_TEST\n",
        "\n",
        "def predictApplication(txt, model1file, model2file):\n",
        "    AppPrediction = []\n",
        "    model1 = pickle.load(open(model1file, 'rb'))\n",
        "    model2 = pickle.load(open(model2file, 'rb'))\n",
        "    myVector = createVector(txt)\n",
        "    y1 = model1.predict(myVector)\n",
        "    y2 = model2.predict(myVector)\n",
        "    return(y1, y2)\n"
      ]
    },
    {
      "cell_type": "code",
      "execution_count": null,
      "metadata": {
        "id": "P0RTwWptbYZE"
      },
      "outputs": [],
      "source": [
        "#USE\n",
        "#predictApplication(text, folder that contains the 1st model, folder that contains the 2nd model)\n",
        "#test for the texts with IDs 20-70 in the train test\n",
        "Results = []\n",
        "for e in range(20,80):\n",
        "    predictions = predictApplication(testnews.loc[e, 'text'], \"model_lr.sav\", \"model_svc.sav\")\n",
        "    Results.append((predictions[0][0],predictions[1][0], submitnews.loc[e, 'label']))"
      ]
    },
    {
      "cell_type": "code",
      "execution_count": null,
      "metadata": {
        "id": "SvOZzyQibYZF",
        "outputId": "3094237a-851f-4809-8684-d1d800e59f77"
      },
      "outputs": [
        {
          "name": "stdout",
          "output_type": "stream",
          "text": [
            "0.6666666666666666\n",
            "0.6833333333333333\n"
          ]
        }
      ],
      "source": [
        "#results\n",
        "correct1 = 0\n",
        "correct2 = 0\n",
        "for r in Results:\n",
        "    if r[0] == r[2]:\n",
        "        correct1 = correct1 + 1\n",
        "    if r[1] == r[2]:\n",
        "        correct2 = correct2 + 1\n",
        "print(correct1/len(Results))\n",
        "print(correct2/len(Results))\n",
        "        "
      ]
    },
    {
      "cell_type": "code",
      "execution_count": null,
      "metadata": {
        "id": "PwpzBEw-bYZF"
      },
      "outputs": [],
      "source": [
        "#prediction for the 2nd text of the train set\n",
        "prediction = predictApplication(news.loc[2,'content'], \"model_lr.sav\", \"model_svc.sav\")"
      ]
    },
    {
      "cell_type": "code",
      "execution_count": null,
      "metadata": {
        "id": "uGOMAmiGbYZF",
        "outputId": "11aeec47-6fcf-45f2-b2e6-cc960b264e0a"
      },
      "outputs": [
        {
          "data": {
            "text/plain": [
              "(array([1], dtype=int64), array([1], dtype=int64))"
            ]
          },
          "execution_count": 543,
          "metadata": {},
          "output_type": "execute_result"
        }
      ],
      "source": [
        "#prediction\n",
        "prediction"
      ]
    },
    {
      "cell_type": "markdown",
      "metadata": {
        "id": "9Pvp9OCfbYZF"
      },
      "source": [
        "Ε) Analysis and extraction of correlation with the construction of functions"
      ]
    },
    {
      "cell_type": "code",
      "execution_count": null,
      "metadata": {
        "id": "4wjM6TkpbYZG"
      },
      "outputs": [],
      "source": [
        "'''\n",
        "l: To Label του κειμένου (0, 1 ή -1 σε απουσία του)\n",
        "item: Η λέξη που εξετάζεται\n",
        "dataset: το σύνολο των κειμένων\n",
        "labels: Οι χαρακτηρισμοί των κειμένων ([] αν δεν διατίθεται)\n",
        "\n",
        "Στις παρακάτω συναρτήσεις αναζητειται η συσχέτιση\n",
        "item --> l\n",
        "'''\n",
        "def Support(l, item, dataset, labels=[]):\n",
        "    count = 0\n",
        "    item = port_stem.stem(item.lower())\n",
        "    for i in range(0,len(dataset)):\n",
        "        r = dataset[i].split()\n",
        "        if item in r:\n",
        "            if l==-1:\n",
        "                count = count + 1\n",
        "            else:\n",
        "                if labels[i]==l:\n",
        "                    count = count + 1\n",
        "\n",
        "    return count/len(dataset)\n",
        "def SupportLabel(l, labels):\n",
        "    count = 0\n",
        "    for i in range(0,len(labels)):\n",
        "        if (labels[i]==l):\n",
        "            count = count + 1\n",
        "    return count/len(labels)\n",
        "    "
      ]
    },
    {
      "cell_type": "code",
      "execution_count": null,
      "metadata": {
        "id": "b1vFG5gObYZG"
      },
      "outputs": [],
      "source": [
        "def Confidence(l, item, dataset, labels):\n",
        "    if (Support(-1,item, dataset, [])==0):\n",
        "        return 0\n",
        "    return Support(l,item, dataset, labels)/Support(-1,item, dataset, [])"
      ]
    },
    {
      "cell_type": "code",
      "execution_count": null,
      "metadata": {
        "id": "X-GZojUQbYZG"
      },
      "outputs": [],
      "source": [
        "def Lift(l, item, dataset, labels):\n",
        "    if (Support(-1,item, dataset, [])==0):\n",
        "        return 0\n",
        "    return Confidence(l,item, dataset, labels)/Support(-1,item, dataset, [])"
      ]
    },
    {
      "cell_type": "code",
      "execution_count": null,
      "metadata": {
        "id": "plv7eHQHbYZG"
      },
      "outputs": [],
      "source": [
        "def Leverage(l, item, dataset, labels):\n",
        "    return (Support(l, item, dataset, labels)-Support(-1, item, dataset, [])*SupportLabel(l,  labels))"
      ]
    },
    {
      "cell_type": "code",
      "execution_count": null,
      "metadata": {
        "id": "EAhXFZ2lbYZG",
        "outputId": "5790f7b9-9fb3-40ec-ad4c-d43a8bbcf5da"
      },
      "outputs": [
        {
          "data": {
            "text/plain": [
              "[{'Word': 'pmu',\n",
              "  'Support': 9.615384615384615e-05,\n",
              "  'Confidence': 0.5,\n",
              "  'Lift': 5200.0,\n",
              "  'Leverage': -6.009615384615244e-08},\n",
              " {'Word': 'zamili',\n",
              "  'Support': 4.807692307692308e-05,\n",
              "  'Confidence': 0.0,\n",
              "  'Lift': 0.0,\n",
              "  'Leverage': -2.4068509615384615e-05},\n",
              " {'Word': 'ormai',\n",
              "  'Support': 4.807692307692308e-05,\n",
              "  'Confidence': 1.0,\n",
              "  'Lift': 20800.0,\n",
              "  'Leverage': 2.4008413461538462e-05},\n",
              " {'Word': 'hedefimiz',\n",
              "  'Support': 4.807692307692308e-05,\n",
              "  'Confidence': 1.0,\n",
              "  'Lift': 20800.0,\n",
              "  'Leverage': 2.4008413461538462e-05},\n",
              " {'Word': 'lightheart',\n",
              "  'Support': 0.0011057692307692307,\n",
              "  'Confidence': 0.04347826086956522,\n",
              "  'Lift': 39.3194706994329,\n",
              "  'Leverage': -0.0005054987980769231},\n",
              " {'Word': 'qichao',\n",
              "  'Support': 9.615384615384615e-05,\n",
              "  'Confidence': 0.5,\n",
              "  'Lift': 5200.0,\n",
              "  'Leverage': -6.009615384615244e-08},\n",
              " {'Word': 'pour',\n",
              "  'Support': 0.022692307692307692,\n",
              "  'Confidence': 0.40889830508474573,\n",
              "  'Lift': 18.01924734271761,\n",
              "  'Leverage': -0.0020814903846153848},\n",
              " {'Word': 'raum',\n",
              "  'Support': 0.0002403846153846154,\n",
              "  'Confidence': 1.0,\n",
              "  'Lift': 4160.0,\n",
              "  'Leverage': 0.00012004206730769231},\n",
              " {'Word': 'joshrosn',\n",
              "  'Support': 4.807692307692308e-05,\n",
              "  'Confidence': 0.0,\n",
              "  'Lift': 0.0,\n",
              "  'Leverage': -2.4068509615384615e-05},\n",
              " {'Word': 'indonesia',\n",
              "  'Support': 0.005528846153846154,\n",
              "  'Confidence': 0.3391304347826087,\n",
              "  'Lift': 61.33837429111531,\n",
              "  'Leverage': -0.0008928786057692309},\n",
              " {'Word': 'hamtramck',\n",
              "  'Support': 4.807692307692308e-05,\n",
              "  'Confidence': 1.0,\n",
              "  'Lift': 20800.0,\n",
              "  'Leverage': 2.4008413461538462e-05},\n",
              " {'Word': 'frisch',\n",
              "  'Support': 0.0003846153846153846,\n",
              "  'Confidence': 0.37500000000000006,\n",
              "  'Lift': 975.0000000000001,\n",
              "  'Leverage': -4.831730769230767e-05},\n",
              " {'Word': 'lionel',\n",
              "  'Support': 0.0008653846153846154,\n",
              "  'Confidence': 0.2222222222222222,\n",
              "  'Lift': 256.7901234567901,\n",
              "  'Leverage': -0.00024092548076923076},\n",
              " {'Word': 'dictatorship',\n",
              "  'Support': 0.008413461538461538,\n",
              "  'Confidence': 0.68,\n",
              "  'Lift': 80.82285714285715,\n",
              "  'Leverage': 0.0015091646634615387},\n",
              " {'Word': 'geschichten',\n",
              "  'Support': 4.807692307692308e-05,\n",
              "  'Confidence': 1.0,\n",
              "  'Lift': 20800.0,\n",
              "  'Leverage': 2.4008413461538462e-05},\n",
              " {'Word': 'blinddarmpati',\n",
              "  'Support': 4.807692307692308e-05,\n",
              "  'Confidence': 1.0,\n",
              "  'Lift': 20800.0,\n",
              "  'Leverage': 2.4008413461538462e-05},\n",
              " {'Word': 'igc',\n",
              "  'Support': 4.807692307692308e-05,\n",
              "  'Confidence': 1.0,\n",
              "  'Lift': 20800.0,\n",
              "  'Leverage': 2.4008413461538462e-05},\n",
              " {'Word': 'ozon',\n",
              "  'Support': 0.0009134615384615384,\n",
              "  'Confidence': 0.3684210526315789,\n",
              "  'Lift': 403.32409972299166,\n",
              "  'Leverage': -0.00012076322115384613},\n",
              " {'Word': 'mcomuykl',\n",
              "  'Support': 4.807692307692308e-05,\n",
              "  'Confidence': 1.0,\n",
              "  'Lift': 20800.0,\n",
              "  'Leverage': 2.4008413461538462e-05},\n",
              " {'Word': 'potboil',\n",
              "  'Support': 4.807692307692308e-05,\n",
              "  'Confidence': 0.0,\n",
              "  'Lift': 0.0,\n",
              "  'Leverage': -2.4068509615384615e-05},\n",
              " {'Word': 'lashley',\n",
              "  'Support': 0.00014423076923076924,\n",
              "  'Confidence': 0.6666666666666666,\n",
              "  'Lift': 4622.222222222222,\n",
              "  'Leverage': 2.3948317307692296e-05},\n",
              " {'Word': 'nondo',\n",
              "  'Support': 4.807692307692308e-05,\n",
              "  'Confidence': 0.0,\n",
              "  'Lift': 0.0,\n",
              "  'Leverage': -2.4068509615384615e-05},\n",
              " {'Word': 'ertr',\n",
              "  'Support': 4.807692307692308e-05,\n",
              "  'Confidence': 1.0,\n",
              "  'Lift': 20800.0,\n",
              "  'Leverage': 2.4008413461538462e-05},\n",
              " {'Word': 'thrill',\n",
              "  'Support': 0.010480769230769231,\n",
              "  'Confidence': 0.2110091743119266,\n",
              "  'Lift': 20.132985438936114,\n",
              "  'Leverage': -0.003035396634615385},\n",
              " {'Word': 'mctaggart',\n",
              "  'Support': 4.807692307692308e-05,\n",
              "  'Confidence': 0.0,\n",
              "  'Lift': 0.0,\n",
              "  'Leverage': -2.4068509615384615e-05},\n",
              " {'Word': 'weasli',\n",
              "  'Support': 4.807692307692308e-05,\n",
              "  'Confidence': 1.0,\n",
              "  'Lift': 20800.0,\n",
              "  'Leverage': 2.4008413461538462e-05},\n",
              " {'Word': 'esvelt',\n",
              "  'Support': 4.807692307692308e-05,\n",
              "  'Confidence': 0.0,\n",
              "  'Lift': 0.0,\n",
              "  'Leverage': -2.4068509615384615e-05},\n",
              " {'Word': 'expresament',\n",
              "  'Support': 9.615384615384615e-05,\n",
              "  'Confidence': 1.0,\n",
              "  'Lift': 10400.0,\n",
              "  'Leverage': 4.8016826923076924e-05},\n",
              " {'Word': 'unplay',\n",
              "  'Support': 9.615384615384615e-05,\n",
              "  'Confidence': 0.5,\n",
              "  'Lift': 5200.0,\n",
              "  'Leverage': -6.009615384615244e-08},\n",
              " {'Word': 'bewild',\n",
              "  'Support': 0.0034615384615384616,\n",
              "  'Confidence': 0.3611111111111111,\n",
              "  'Lift': 104.32098765432099,\n",
              "  'Leverage': -0.00048293269230769223}]"
            ]
          },
          "execution_count": 552,
          "metadata": {},
          "output_type": "execute_result"
        }
      ],
      "source": [
        "#Trials with 90 random expressions from the texts\n",
        "wordsStatsFor1 = []\n",
        "for c in range(0,90):\n",
        "    e = random.choice(allWords)\n",
        "    d = {\"Word\":e, \n",
        "     \"Support\":Support(-1, e, news['content'], []) , \n",
        "     \"Confidence\" : Confidence(1, e, news['content'], news['label']) ,\n",
        "     \"Lift\" : Lift(1, e, news['content'], news['label']) ,\n",
        "     \"Leverage\" : Leverage(1, e, news['content'], news['label'])\n",
        "    }\n",
        "    wordsStatsFor1.append(d)\n"
      ]
    },
    {
      "cell_type": "code",
      "execution_count": null,
      "metadata": {
        "id": "m31mBH3FbYZH"
      },
      "outputs": [],
      "source": [
        "for c in range(0,30):\n",
        "    e = random.choice(allWords)\n",
        "    d = {\"Word\":e, \n",
        "     \"Support\":Support(-1, e, news['content'], []) , \n",
        "     \"Confidence\" : Confidence(1, e, news['content'], news['label']) ,\n",
        "     \"Lift\" : Lift(1, e, news['content'], news['label']) ,\n",
        "     \"Leverage\" : Leverage(1, e, news['content'], news['label'])\n",
        "    }\n",
        "    wordsStatsFor1.append(d)\n"
      ]
    },
    {
      "cell_type": "code",
      "execution_count": null,
      "metadata": {
        "id": "8HuIfSkrbYZH",
        "outputId": "234de7fd-f53d-438b-8599-4b4f3ee50376"
      },
      "outputs": [
        {
          "data": {
            "text/html": [
              "<div>\n",
              "<style scoped>\n",
              "    .dataframe tbody tr th:only-of-type {\n",
              "        vertical-align: middle;\n",
              "    }\n",
              "\n",
              "    .dataframe tbody tr th {\n",
              "        vertical-align: top;\n",
              "    }\n",
              "\n",
              "    .dataframe thead th {\n",
              "        text-align: right;\n",
              "    }\n",
              "</style>\n",
              "<table border=\"1\" class=\"dataframe\">\n",
              "  <thead>\n",
              "    <tr style=\"text-align: right;\">\n",
              "      <th></th>\n",
              "      <th>Word</th>\n",
              "      <th>Support</th>\n",
              "      <th>Confidence</th>\n",
              "      <th>Lift</th>\n",
              "      <th>Leverage</th>\n",
              "    </tr>\n",
              "  </thead>\n",
              "  <tbody>\n",
              "    <tr>\n",
              "      <th>7</th>\n",
              "      <td>raum</td>\n",
              "      <td>0.000240</td>\n",
              "      <td>1.0</td>\n",
              "      <td>4160.000000</td>\n",
              "      <td>0.000120</td>\n",
              "    </tr>\n",
              "    <tr>\n",
              "      <th>31</th>\n",
              "      <td>militaryrussia</td>\n",
              "      <td>0.000192</td>\n",
              "      <td>1.0</td>\n",
              "      <td>5200.000000</td>\n",
              "      <td>0.000096</td>\n",
              "    </tr>\n",
              "    <tr>\n",
              "      <th>57</th>\n",
              "      <td>deist</td>\n",
              "      <td>0.000144</td>\n",
              "      <td>1.0</td>\n",
              "      <td>6933.333333</td>\n",
              "      <td>0.000072</td>\n",
              "    </tr>\n",
              "    <tr>\n",
              "      <th>27</th>\n",
              "      <td>expresament</td>\n",
              "      <td>0.000096</td>\n",
              "      <td>1.0</td>\n",
              "      <td>10400.000000</td>\n",
              "      <td>0.000048</td>\n",
              "    </tr>\n",
              "    <tr>\n",
              "      <th>62</th>\n",
              "      <td>wolfricht</td>\n",
              "      <td>0.000096</td>\n",
              "      <td>1.0</td>\n",
              "      <td>10400.000000</td>\n",
              "      <td>0.000048</td>\n",
              "    </tr>\n",
              "    <tr>\n",
              "      <th>63</th>\n",
              "      <td>voie</td>\n",
              "      <td>0.000096</td>\n",
              "      <td>1.0</td>\n",
              "      <td>10400.000000</td>\n",
              "      <td>0.000048</td>\n",
              "    </tr>\n",
              "    <tr>\n",
              "      <th>66</th>\n",
              "      <td>gane</td>\n",
              "      <td>0.000096</td>\n",
              "      <td>1.0</td>\n",
              "      <td>10400.000000</td>\n",
              "      <td>0.000048</td>\n",
              "    </tr>\n",
              "    <tr>\n",
              "      <th>75</th>\n",
              "      <td>unacount</td>\n",
              "      <td>0.000096</td>\n",
              "      <td>1.0</td>\n",
              "      <td>10400.000000</td>\n",
              "      <td>0.000048</td>\n",
              "    </tr>\n",
              "    <tr>\n",
              "      <th>77</th>\n",
              "      <td>bankofrussia</td>\n",
              "      <td>0.000096</td>\n",
              "      <td>1.0</td>\n",
              "      <td>10400.000000</td>\n",
              "      <td>0.000048</td>\n",
              "    </tr>\n",
              "    <tr>\n",
              "      <th>2</th>\n",
              "      <td>ormai</td>\n",
              "      <td>0.000048</td>\n",
              "      <td>1.0</td>\n",
              "      <td>20800.000000</td>\n",
              "      <td>0.000024</td>\n",
              "    </tr>\n",
              "    <tr>\n",
              "      <th>3</th>\n",
              "      <td>hedefimiz</td>\n",
              "      <td>0.000048</td>\n",
              "      <td>1.0</td>\n",
              "      <td>20800.000000</td>\n",
              "      <td>0.000024</td>\n",
              "    </tr>\n",
              "    <tr>\n",
              "      <th>10</th>\n",
              "      <td>hamtramck</td>\n",
              "      <td>0.000048</td>\n",
              "      <td>1.0</td>\n",
              "      <td>20800.000000</td>\n",
              "      <td>0.000024</td>\n",
              "    </tr>\n",
              "    <tr>\n",
              "      <th>14</th>\n",
              "      <td>geschichten</td>\n",
              "      <td>0.000048</td>\n",
              "      <td>1.0</td>\n",
              "      <td>20800.000000</td>\n",
              "      <td>0.000024</td>\n",
              "    </tr>\n",
              "    <tr>\n",
              "      <th>15</th>\n",
              "      <td>blinddarmpati</td>\n",
              "      <td>0.000048</td>\n",
              "      <td>1.0</td>\n",
              "      <td>20800.000000</td>\n",
              "      <td>0.000024</td>\n",
              "    </tr>\n",
              "    <tr>\n",
              "      <th>16</th>\n",
              "      <td>igc</td>\n",
              "      <td>0.000048</td>\n",
              "      <td>1.0</td>\n",
              "      <td>20800.000000</td>\n",
              "      <td>0.000024</td>\n",
              "    </tr>\n",
              "    <tr>\n",
              "      <th>18</th>\n",
              "      <td>mcomuykl</td>\n",
              "      <td>0.000048</td>\n",
              "      <td>1.0</td>\n",
              "      <td>20800.000000</td>\n",
              "      <td>0.000024</td>\n",
              "    </tr>\n",
              "    <tr>\n",
              "      <th>22</th>\n",
              "      <td>ertr</td>\n",
              "      <td>0.000048</td>\n",
              "      <td>1.0</td>\n",
              "      <td>20800.000000</td>\n",
              "      <td>0.000024</td>\n",
              "    </tr>\n",
              "    <tr>\n",
              "      <th>25</th>\n",
              "      <td>weasli</td>\n",
              "      <td>0.000048</td>\n",
              "      <td>1.0</td>\n",
              "      <td>20800.000000</td>\n",
              "      <td>0.000024</td>\n",
              "    </tr>\n",
              "    <tr>\n",
              "      <th>33</th>\n",
              "      <td>gmcb</td>\n",
              "      <td>0.000048</td>\n",
              "      <td>1.0</td>\n",
              "      <td>20800.000000</td>\n",
              "      <td>0.000024</td>\n",
              "    </tr>\n",
              "    <tr>\n",
              "      <th>35</th>\n",
              "      <td>visumsfrei</td>\n",
              "      <td>0.000048</td>\n",
              "      <td>1.0</td>\n",
              "      <td>20800.000000</td>\n",
              "      <td>0.000024</td>\n",
              "    </tr>\n",
              "  </tbody>\n",
              "</table>\n",
              "</div>"
            ],
            "text/plain": [
              "              Word   Support  Confidence          Lift  Leverage\n",
              "7             raum  0.000240         1.0   4160.000000  0.000120\n",
              "31  militaryrussia  0.000192         1.0   5200.000000  0.000096\n",
              "57           deist  0.000144         1.0   6933.333333  0.000072\n",
              "27     expresament  0.000096         1.0  10400.000000  0.000048\n",
              "62       wolfricht  0.000096         1.0  10400.000000  0.000048\n",
              "63            voie  0.000096         1.0  10400.000000  0.000048\n",
              "66            gane  0.000096         1.0  10400.000000  0.000048\n",
              "75        unacount  0.000096         1.0  10400.000000  0.000048\n",
              "77    bankofrussia  0.000096         1.0  10400.000000  0.000048\n",
              "2            ormai  0.000048         1.0  20800.000000  0.000024\n",
              "3        hedefimiz  0.000048         1.0  20800.000000  0.000024\n",
              "10       hamtramck  0.000048         1.0  20800.000000  0.000024\n",
              "14     geschichten  0.000048         1.0  20800.000000  0.000024\n",
              "15   blinddarmpati  0.000048         1.0  20800.000000  0.000024\n",
              "16             igc  0.000048         1.0  20800.000000  0.000024\n",
              "18        mcomuykl  0.000048         1.0  20800.000000  0.000024\n",
              "22            ertr  0.000048         1.0  20800.000000  0.000024\n",
              "25          weasli  0.000048         1.0  20800.000000  0.000024\n",
              "33            gmcb  0.000048         1.0  20800.000000  0.000024\n",
              "35      visumsfrei  0.000048         1.0  20800.000000  0.000024"
            ]
          },
          "execution_count": 557,
          "metadata": {},
          "output_type": "execute_result"
        }
      ],
      "source": [
        "wordMetricsdf = pd.DataFrame(wordsStatsFor1)\n",
        "wordMetricsdf.sort_values(by=[\"Confidence\",\"Support\"], ascending=False).head(20)"
      ]
    }
  ],
  "metadata": {
    "kernelspec": {
      "display_name": "Python 3",
      "language": "python",
      "name": "python3"
    },
    "language_info": {
      "codemirror_mode": {
        "name": "ipython",
        "version": 3
      },
      "file_extension": ".py",
      "mimetype": "text/x-python",
      "name": "python",
      "nbconvert_exporter": "python",
      "pygments_lexer": "ipython3",
      "version": "3.7.1"
    },
    "colab": {
      "name": "FAKENEWS.ipynb",
      "provenance": [],
      "include_colab_link": true
    }
  },
  "nbformat": 4,
  "nbformat_minor": 0
}